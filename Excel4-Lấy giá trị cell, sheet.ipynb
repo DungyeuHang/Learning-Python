{
 "cells": [
  {
   "cell_type": "code",
   "execution_count": 9,
   "metadata": {},
   "outputs": [
    {
     "data": {
      "text/plain": [
       "tổng    300000\n",
       "Name: 3, dtype: object"
      ]
     },
     "execution_count": 9,
     "metadata": {},
     "output_type": "execute_result"
    }
   ],
   "source": [
    "import pandas as pd\n",
    "duong_dan = r'C:\\Users\\DELL\\Desktop\\Python CAD\\excel1.xlsx'\n",
    "#file = pd.read_excel(duong_dan, sheet_name= '2sp') \n",
    "file = pd.read_excel(duong_dan, sheet_name= 0) \n",
    "#đọc file từ đường dẫn, tên bảng/stt bảng từ 0 ++\n",
    "\n",
    "#file.loc[1, 'giá']\n",
    "#file.loc[:,:]  --lấy giá trị tất cả từ sheet\n",
    "#file.loc[x1, x2]  --lấy giá trị từ cell hàng x1, cột x2\n",
    "\n",
    "#file.iloc[3, 4:]\n",
    "#file.iloc[:,:]  --lấy gía trị tại vị trí nào đó, lọc theo stt cột\n",
    "\n",
    "\n",
    "\n",
    "\n",
    "\n",
    "\n"
   ]
  }
 ],
 "metadata": {
  "kernelspec": {
   "display_name": "Python 3",
   "language": "python",
   "name": "python3"
  },
  "language_info": {
   "codemirror_mode": {
    "name": "ipython",
    "version": 3
   },
   "file_extension": ".py",
   "mimetype": "text/x-python",
   "name": "python",
   "nbconvert_exporter": "python",
   "pygments_lexer": "ipython3",
   "version": "3.12.4"
  }
 },
 "nbformat": 4,
 "nbformat_minor": 2
}
