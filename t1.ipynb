{
 "cells": [
  {
   "cell_type": "code",
   "execution_count": 20,
   "id": "9585c85f-e85f-4073-96a2-a8f0e788f929",
   "metadata": {},
   "outputs": [],
   "source": [
    "from pyautocad import APoint, Autocad\n",
    "a = Autocad()\n",
    "\n",
    "p1 = APoint (12, 42)\n",
    "p2 = APoint (22, 52)\n",
    "\n",
    "p11 = a.model.AddPoint(p1)\n",
    "p21 = a.model.AddPoint(p2)\n",
    "\n",
    "line1 = a.model.AddLine(p1, p2)\n",
    "\n",
    "a.doc.GetVariable('PDMODE') #kiểm tra giá trị hiện có\n",
    "a.doc.SetVariable('PDMODE', 65)\n",
    "\n",
    "#a.doc.GetVariable('PDsize') #đặt kích thước point\n",
    "a.doc.SetVariable('PDsize', 0)\n",
    "\n",
    "a.app.ZoomExtents()"
   ]
  },
  {
   "cell_type": "code",
   "execution_count": null,
   "id": "485c1c9b-6e68-4ce0-bc69-3275ed241b5e",
   "metadata": {},
   "outputs": [],
   "source": [
    "\n"
   ]
  },
  {
   "cell_type": "markdown",
   "id": "7fb97835",
   "metadata": {},
   "source": []
  }
 ],
 "metadata": {
  "kernelspec": {
   "display_name": "Python 3 (ipykernel)",
   "language": "python",
   "name": "python3"
  },
  "language_info": {
   "codemirror_mode": {
    "name": "ipython",
    "version": 3
   },
   "file_extension": ".py",
   "mimetype": "text/x-python",
   "name": "python",
   "nbconvert_exporter": "python",
   "pygments_lexer": "ipython3",
   "version": "3.12.4"
  }
 },
 "nbformat": 4,
 "nbformat_minor": 5
}
