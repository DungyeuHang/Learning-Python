{
 "cells": [
  {
   "cell_type": "code",
   "execution_count": 3,
   "metadata": {},
   "outputs": [],
   "source": [
    "from pyautocad import Autocad, APoint\n",
    "a = Autocad()\n",
    "p1 = APoint(0,1)\n",
    "p2 =APoint(0, 5)\n",
    "a.model.Addline(p1, p2)\n",
    "\n",
    "#a.model.AddDimAligned(x1, x2, x3)\n",
    "#x1: vị trí bắt đầu\n",
    "#x2: vị trí kết thúc\n",
    "#x3: vị trí đặt text\n",
    "\n",
    "a.model.AddDimAligned(p1, p2, APoint(2,0))\n",
    "a.app.Zoomextents()"
   ]
  },
  {
   "cell_type": "code",
   "execution_count": null,
   "metadata": {},
   "outputs": [],
   "source": [
    "from pyautocad import Autocad, APoint\n",
    "a = Autocad()\n",
    "p1 = APoint(0,1)\n",
    "p2 =APoint(0,5)\n",
    "a.model.Addline(p1, p2)\n",
    "\n",
    "x= (p1.x+p2.x)/2\n",
    "y= 1\n",
    "p3 =APoint(x,y)\n",
    "\n",
    "a.model.AddDimAligned(p1, p2, p3)\n",
    "a.app.Zoomextents()"
   ]
  },
  {
   "cell_type": "code",
   "execution_count": 6,
   "metadata": {},
   "outputs": [],
   "source": [
    "#Dim chỉ dành cho góc 45 =))\n",
    "from pyautocad import Autocad, APoint\n",
    "from math import pi\n",
    "import math\n",
    "\n",
    "a = Autocad()\n",
    "p1 = APoint(0,0)\n",
    "p2 =APoint(5,5)\n",
    "a.model.Addline(p1, p2)\n",
    "\n",
    "#Khoảng cách mong muốn\n",
    "kc = 1\n",
    "\n",
    "#Tính toán góc\n",
    "goc = math.atan(p2.y/p2.x)\n",
    "k = kc/math.cos(goc)\n",
    "\n",
    "a.model.AddDimAligned(p1, p2, APoint(0, k))\n",
    "a.app.Zoomextents()"
   ]
  },
  {
   "cell_type": "code",
   "execution_count": 15,
   "metadata": {},
   "outputs": [],
   "source": [
    "\n",
    "from pyautocad  import Autocad, aDouble, APoint\n",
    "a = Autocad()\n",
    "p2 = APoint(0,0)\n",
    "p1 = aDouble(0,0,0, 5,0,0, 5,8,0, 0,8,0, 0,0,0)\n",
    "a.model.AddPolyline(p1)\n",
    "\n",
    "#Dim góc\n",
    "#a.model.AddDimAngular(x1, x2, x3, x4)\n",
    "#x1: tâm dim\n",
    "#x2: vị trí bắt đầu\n",
    "#x3: vị trí kết thúc\n",
    "#x4: vị trí đặt text\n",
    "\n",
    "a.model.AddDimAngular(p2, APoint(5,0), APoint(0,8), APoint(1,1))\n",
    "\n",
    "#a.model.AddCircle(p2, 3)\n",
    "\n",
    "\n",
    "a.app.ZoomExtents()"
   ]
  },
  {
   "cell_type": "code",
   "execution_count": 28,
   "metadata": {},
   "outputs": [],
   "source": [
    "#Polyline\n",
    "from pyautocad  import Autocad, aDouble, APoint\n",
    "a = Autocad()\n",
    "p1 = APoint(0,0)\n",
    "p2 = APoint(0,5)\n",
    "p3 = APoint(5,0)\n",
    "p4 = APoint(10,10)\n",
    "\n",
    "a.model.AddCircle(p1, 5)\n",
    "a.model.AddDimArc(p1, p2, p3, p4)\n",
    "\n",
    "#a.model.AddDimArc(x1, x2, x3, x4)\n",
    "#x1: tâm\n",
    "#x2: vị trí bắt đầu\n",
    "#x3: vị trí kết thúc\n",
    "#x4: vị trí đặt text\n",
    "\n",
    "a.model.AddDimDiametric(APoint(-5,0), p3, 2)\n",
    "#a.model.AddDimDiametric(x1, x2, x3)\n",
    "#x1: vị trí bắt đầu\n",
    "#x2: vị trí kết thúc\n",
    "#x3: vị trí đặt text, kiểu số\n",
    "\n",
    "a.model.AddDimRadial(APoint(0,0), p3, 2)\n",
    "\n",
    "a.app.ZoomExtents()"
   ]
  }
 ],
 "metadata": {
  "kernelspec": {
   "display_name": "Python 3",
   "language": "python",
   "name": "python3"
  },
  "language_info": {
   "codemirror_mode": {
    "name": "ipython",
    "version": 3
   },
   "file_extension": ".py",
   "mimetype": "text/x-python",
   "name": "python",
   "nbconvert_exporter": "python",
   "pygments_lexer": "ipython3",
   "version": "3.12.4"
  }
 },
 "nbformat": 4,
 "nbformat_minor": 2
}
