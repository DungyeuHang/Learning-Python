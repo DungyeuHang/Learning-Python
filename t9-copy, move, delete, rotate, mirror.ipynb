{
 "cells": [
  {
   "cell_type": "code",
   "execution_count": 20,
   "metadata": {},
   "outputs": [],
   "source": [
    "#Copy \n",
    "#đối tượng.Copy()\n",
    "\n",
    "#Move\n",
    "#đối tượng.Move(x1, x2)\n",
    "#x1: điểm đầu\n",
    "#x2: điểm đến\n",
    "\n",
    "from pyautocad import Autocad, APoint\n",
    "a = Autocad()\n",
    "p1 = APoint(1)\n",
    "p2 = APoint(2, 2)\n",
    "l1 = a.model.Addline(p1, p2)\n",
    "l2 = l1.Copy()\n",
    "l2.Move(p1, p2)\n",
    "\n",
    "#đối tượng.Delete() = erase()\n",
    "l1.Delete()\n",
    "\n",
    "#Rotate\n",
    "#đối tượng.Rotate(x1, x2)\n",
    "#x1: gốc xoay\n",
    "#x2: góc xoay + ngược chiều kim đồng hồ, - cùng chiều kim đồng hồ\n",
    "l2.Rotate(p2, 90*3.14/180)\n",
    "\n",
    "#mirror\n",
    "#đối tượng.Mirror(x1, x2)\n",
    "#x1: điểm 1\n",
    "#x2: điểm 2\n",
    "#x1, x2 tạo thành đoạn thẳng đối tượng mirror qua\n",
    "l2.Mirror(APoint(0), APoint(0,1))\n",
    "\n",
    "t1= a.model.AddText('Dũng yêu Hằng', p1, 1)\n",
    "a.doc.SetVariable('MIRRTEXT', 1)\n",
    "t1.Mirror(APoint(0), APoint(0,1))\n",
    "\n",
    "#Mirror chữ\n",
    "#a.doc.SetVariable('MIRRORTEXT', x1)\n",
    "#x1 = 0 Không quay ngược chữ\n",
    "#x1 = 1 Quay ngược chữ\n",
    "\n",
    "a.app.ZoomExtents()"
   ]
  }
 ],
 "metadata": {
  "kernelspec": {
   "display_name": "Python 3",
   "language": "python",
   "name": "python3"
  },
  "language_info": {
   "codemirror_mode": {
    "name": "ipython",
    "version": 3
   },
   "file_extension": ".py",
   "mimetype": "text/x-python",
   "name": "python",
   "nbconvert_exporter": "python",
   "pygments_lexer": "ipython3",
   "version": "3.12.4"
  }
 },
 "nbformat": 4,
 "nbformat_minor": 2
}
