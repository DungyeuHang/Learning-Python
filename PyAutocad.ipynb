{
 "cells": [
  {
   "cell_type": "code",
   "execution_count": null,
   "metadata": {},
   "outputs": [],
   "source": [
    "from tkinter import *\n",
    "win = Tk()\n",
    "win.title('Tên cửa sổ')\n",
    "win.geometry('500x500')\n",
    "win.attributes(\"-topmost\", True)\n",
    "#đây là ghi chú không phải code\n",
    "dong1 = Label(win, #dong1 là nhãn trong win\n",
    "              bg = 'red', \n",
    "              fg = 'white', \n",
    "              text = 'Tên dòng chữ', \n",
    "              font = ('Times new roman',20))\n",
    "dong1.place(x = 50, y = 50) #lúc nào cũng phải có vị trí thì mới hiện\n",
    "def anvao(): #định dạng anvao, phải định dạng trước ô button\n",
    "    dong2 = Label(win, \n",
    "              bg = 'red', \n",
    "              fg = 'white', \n",
    "              text = 'Bạn đã click vào nút 1', \n",
    "              font = ('Times new roman',20) )\n",
    "    dong2.place(x = 200, y = 300)\n",
    "but1 = Button(win, \n",
    "             text = 'Click vào đây', \n",
    "             bg ='yellow', \n",
    "             font = ('times new roman', 15), \n",
    "             fg= 'red', \n",
    "             width = 10, height = 5,\n",
    "             command= anvao)\n",
    "but1.place( x = 100, y = 100)\n",
    "\n",
    "\n",
    "\n",
    "\n",
    "win.mainloop()"
   ]
  },
  {
   "cell_type": "code",
   "execution_count": null,
   "metadata": {},
   "outputs": [],
   "source": [
    "from tkinter import *\n",
    "\n",
    "#Tạo bảng\n",
    "win = Tk()\n",
    "win.title('Nguyễn Văn Dũng')\n",
    "win.geometry('400x200')\n",
    "win.attributes(\"-topmost\", True)\n",
    "\n",
    "#Tạo label\n",
    "dong1 = Label(win, #dong1 là nhãn trong win \n",
    "              text = 'Họ và tên', \n",
    "              font = ('Times new roman',15))\n",
    "dong1.place(x = 5, y = 5)\n",
    "\n",
    "#Tạo entry\n",
    "onhap = Entry (win, \n",
    "               width= 20, \n",
    "               font= ('times new roman', 15))\n",
    "onhap.place(x=100, y=5)\n",
    "onhap.focus()\n",
    "\n",
    "#Tạo button\n",
    "#định nghĩa hàm anvao\n",
    "def anvao(): \n",
    "    dong2 = Label(win, \n",
    "              bg = 'red', \n",
    "              fg = 'white', \n",
    "              text = 'Bạn đã nhập:' + onhap.get(), #tên entry.get: lấy giữ liệu string trong ô nhập\n",
    "              font = ('Times new roman',20) )\n",
    "    dong2.place(x = 70, y = 100)\n",
    "but1 = Button(win, \n",
    "             text = 'Click vào đây',  \n",
    "             font = ('times new roman', 13), \n",
    "             width = 10, height = 2,\n",
    "             command= anvao)\n",
    "but1.place( x = 130, y = 35)\n",
    "\n",
    "\n",
    "win.mainloop()"
   ]
  },
  {
   "cell_type": "code",
   "execution_count": null,
   "metadata": {},
   "outputs": [],
   "source": [
    "#Tạo bảng tkinter\n",
    "from tkinter import *\n",
    "\n",
    "#Tạo bảng\n",
    "win = Tk()\n",
    "win.title('Nguyễn Văn Dũng')\n",
    "win.geometry('400x200')\n",
    "win.attributes(\"-topmost\", True)\n",
    "\n",
    "#Tạo label 1\n",
    "dong1 = Label(win, #dong1 là nhãn trong win \n",
    "              text = 'Nhập số thứ 1', \n",
    "              font = ('Times new roman',15))\n",
    "dong1.place(x = 5, y = 5)\n",
    "\n",
    "#Tạo entry 1\n",
    "onhap1 = Entry (win, \n",
    "               width= 20, \n",
    "               font= ('times new roman', 15))\n",
    "onhap1.place(x=120, y=5)\n",
    "onhap1.focus()\n",
    "\n",
    "#Tạo label 2\n",
    "dong2 = Label(win,  \n",
    "              text = 'Nhập số thứ 2', \n",
    "              font = ('Times new roman',15))\n",
    "dong2.place(x = 5, y = 50)\n",
    "\n",
    "#Tạo entry 2\n",
    "onhap2 = Entry (win, \n",
    "               width= 20, \n",
    "               font= ('times new roman', 15))\n",
    "onhap2.place(x=120, y=50)\n",
    "onhap2.focus()\n",
    "\n",
    "\n",
    "#Tạo button\n",
    "#định nghĩa hàm anvao\n",
    "def anvao(): \n",
    "    # Cách 2 x = float(entry1.get()) +float(entry2.get())\n",
    "    anvao1 = Label(win, \n",
    "              bg = 'red', \n",
    "              fg = 'white', \n",
    "              text = 'Tổng 2 số là: ' + \n",
    "              str(float(onhap1.get()) + float(onhap2.get())), \n",
    "              #Cách 2 text = 'Tổng 2 số là: ' + str(x)\n",
    "              #Vì text = phải là các kiểu giữ liệu giống nhau vd như string + string, int + int,....\n",
    "              font = ('Times new roman',20) )\n",
    "    anvao1.place(x = 70, y = 150)\n",
    "but1 = Button(win, \n",
    "             text = 'Cộng hai số',  \n",
    "             font = ('times new roman', 13), \n",
    "             width = 10, height = 2,\n",
    "             command= anvao)\n",
    "but1.place( x = 130, y = 80)\n",
    "\n",
    "\n",
    "win.mainloop()"
   ]
  },
  {
   "cell_type": "code",
   "execution_count": null,
   "metadata": {},
   "outputs": [],
   "source": [
    "from pyautocad  import Autocad, APoint\n",
    "from math import pi\n",
    "a = Autocad()\n",
    "p1 = APoint(1, 2)\n",
    "a.model.AddArc(p1, 4, 30*pi/180, 60*pi/180)\n",
    "#a.model.AddArc(x1, x2, x3, x4)\n",
    "#x1: tâm cung tròn, \n",
    "#x2: bán kính cung tròn, \n",
    "#x3: góc ban đầu, \n",
    "#x4: góc cuối\n",
    "#đơn vị góc là radian\n",
    "\n",
    "a.app.ZoomExtents()"
   ]
  },
  {
   "cell_type": "code",
   "execution_count": null,
   "metadata": {},
   "outputs": [],
   "source": [
    "from pyautocad import Autocad, APoint\n",
    "a = Autocad()\n",
    "p1 = APoint(3, 3)\n",
    "p2 = APoint(3, 5)\n",
    "\n",
    "a.model.AddPoint(p1)\n",
    "a.model.AddPoint(p2)\n",
    "\n",
    "\n",
    "a.model.AddEllipse(p1, p2, 0.5)\n",
    "#a.model.AddEllipse(x1, x2, x3)\n",
    "#x1: tâm Ellipse\n",
    "#x2: Bán kính lớn nhất của Ellipse\n",
    "#x3: ratio - tỷ lệ giữa trục ngắn và trục dời của Elispe\n",
    "\n",
    "a.app.ZoomExtents()"
   ]
  },
  {
   "cell_type": "code",
   "execution_count": null,
   "metadata": {},
   "outputs": [],
   "source": [
    "from pyautocad import Autocad, APoint\n",
    "a = Autocad()\n",
    "p1 = APoint(3, 4)\n",
    "\n",
    "#tạo Text, nên đặt là biến cho dễ quản lý\n",
    "#text = a.model.AddText(x1, x2, x3)\n",
    "#x1 chuỗi ký tự, dạng string\n",
    "#x2: điểm đặt, vị trí đặt\n",
    "#x3: chiều cao chữ\n",
    "text = a.model.AddText('Nguyễn Dũng', p1, 5)\n",
    "\n",
    "a.app.ZoomExtents()"
   ]
  },
  {
   "cell_type": "code",
   "execution_count": null,
   "metadata": {},
   "outputs": [],
   "source": [
    "for .... in ....:\n",
    "....."
   ]
  },
  {
   "cell_type": "code",
   "execution_count": null,
   "metadata": {},
   "outputs": [],
   "source": [
    "a = 'Dũng yêu Hằng'\n",
    "for x in a:\n",
    "    print(x)"
   ]
  },
  {
   "cell_type": "code",
   "execution_count": null,
   "metadata": {},
   "outputs": [],
   "source": [
    "a = (1, 2, 3, 4, 5)\n",
    "for x in a:\n",
    "    print(x+1)"
   ]
  },
  {
   "cell_type": "code",
   "execution_count": null,
   "metadata": {},
   "outputs": [],
   "source": [
    "a = ('Dũng', 'yêu', 'Hằng', ''' for'e\"ver' ''')\n",
    "for x in a:\n",
    "    print(x)"
   ]
  },
  {
   "cell_type": "code",
   "execution_count": null,
   "metadata": {},
   "outputs": [],
   "source": [
    "for x in range(12):\n",
    "    print(x)\n",
    "    #in số từ 0=>11 (12 lần)"
   ]
  },
  {
   "cell_type": "code",
   "execution_count": null,
   "metadata": {},
   "outputs": [],
   "source": [
    "for x in range(10,20):\n",
    "    print(x)\n",
    "    #in số từ 10 => 19"
   ]
  },
  {
   "cell_type": "code",
   "execution_count": null,
   "metadata": {},
   "outputs": [],
   "source": [
    "a = 1\n",
    "for x in range(10):\n",
    "    a += 1\n",
    "    print(a)\n"
   ]
  },
  {
   "cell_type": "code",
   "execution_count": null,
   "metadata": {},
   "outputs": [],
   "source": [
    "from pyautocad import Autocad, APoint\n",
    "a = Autocad()\n",
    "\n",
    "p1 = APoint(0, 1)\n",
    "p2 = APoint(1, 3)\n",
    "\n",
    "a.model.AddPoint(p1)\n",
    "a.model.AddPoint(p2)\n",
    "\n",
    "ra = 0 #nhớ phải định nghĩa ra trước\n",
    "for x in range(10):\n",
    "    ra += 0.1\n",
    "    a.model.AddEllipse(p1, p2, ra)\n",
    "\n",
    "\n",
    "a.app.ZoomExtents()"
   ]
  },
  {
   "cell_type": "code",
   "execution_count": null,
   "metadata": {},
   "outputs": [],
   "source": [
    "from pyautocad import Autocad, APoint\n",
    "a = Autocad()\n",
    "\n",
    "p1 = APoint(0, 1)\n",
    "p2 = APoint(1, 3)\n",
    "\n",
    "a.model.AddPoint(p1)\n",
    "a.model.AddPoint(p2)\n",
    "\n",
    "ra = 0 #nhớ phải định nghĩa ra trước\n",
    "for x in range(100):\n",
    "    ra += 0.01\n",
    "    a.model.AddEllipse(p1, p2, ra)\n",
    "\n",
    "\n",
    "a.app.ZoomExtents()"
   ]
  },
  {
   "cell_type": "code",
   "execution_count": null,
   "metadata": {},
   "outputs": [],
   "source": [
    "from pyautocad import Autocad, APoint\n",
    "a = Autocad()\n",
    "p1 = APoint(3, 4)\n",
    "#c = 5+9\n",
    "\n",
    "text = a.model.AddText( ''' Tôi là 'Dũng\" ''' , p1, 5)\n",
    "\n",
    "a.app.ZoomExtents()"
   ]
  },
  {
   "cell_type": "code",
   "execution_count": null,
   "metadata": {},
   "outputs": [],
   "source": [
    "from pyautocad import Autocad, APoint\n",
    "a = Autocad()\n",
    "p1 = APoint(3, 4)\n",
    "a.model.Addpoint(p1)\n",
    "\n",
    "#Tạo Mtext\n",
    "#mtext = a.model.AddMtext (x1, x2, x3)\n",
    "#x1: vị trí đặt\n",
    "#x2: chiều rộng Mtext - width\n",
    "#x3: chuỗi\n",
    "mtext = a.model.AddMtext (p1, 20, 'Dũng yêu Hằng')\n",
    "\n",
    "a.app.ZoomExtents()"
   ]
  },
  {
   "cell_type": "code",
   "execution_count": null,
   "metadata": {},
   "outputs": [],
   "source": [
    "#Polyline\n",
    "from pyautocad  import Autocad, aDouble, APoint\n",
    "a = Autocad()\n",
    "p2 = APoint(1, 2)\n",
    "p1 = aDouble(1,2,0, 3,7,0, 5,8,0)\n",
    "a.model.AddPolyline(p1)\n",
    "a.model.AddCircle(p2, 3)\n",
    "\n",
    "\n",
    "a.app.ZoomExtents()"
   ]
  }
 ],
 "metadata": {
  "language_info": {
   "name": "python"
  }
 },
 "nbformat": 4,
 "nbformat_minor": 2
}
