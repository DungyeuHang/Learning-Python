{
 "cells": [
  {
   "cell_type": "code",
   "execution_count": 18,
   "metadata": {},
   "outputs": [
    {
     "name": "stdout",
     "output_type": "stream",
     "text": [
      "   STT tên sản phẩm  số lượng    giá     tổng\n",
      "0    1     bột giặt         2  150000  300000\n",
      "1    2       gia vị         5    5000   25000\n",
      "2    3         thịt         3  100000  300000\n",
      "3    4           cá         2  150000  300000\n",
      "4    5      bim bim        10    5000   50000\n",
      "  tên sản phẩm    tổng\n",
      "0     bột giặt  300000\n",
      "1       gia vị   25000\n",
      "2         thịt  300000\n",
      "3           cá  300000\n",
      "4      bim bim   50000\n"
     ]
    }
   ],
   "source": [
    "import pandas as pd #Import thư viện Pandas\n",
    "file_mau = pd.read_excel(r'C:\\Users\\DELL\\Desktop\\Python CAD\\excel1.xlsx') #đọc file excel với đường dẫn\n",
    "\n",
    "#file_mau.head() \n",
    "# #in câu đầu tiên trong file\n",
    "\n",
    "#file_mau.tail()\n",
    "#in ra câu cuối\n",
    "\n",
    "print(file_mau)\n",
    "\n",
    "#file_mau.shape \n",
    "# #số lượng hàng và cột (hàng -1, cột)\n",
    "\n",
    "gia = pd.DataFrame(\n",
    "    file_mau, columns=['tên sản phẩm', 'tổng']\n",
    "    )\n",
    "print(gia)\n",
    "#gia = pd.DataFrame(tên file excel, columns=['x1', 'x2'])\n",
    "#lấy dữ liệu từ cột có tên x1, x2 và in ra màn hình\n",
    "\n",
    "\n"
   ]
  }
 ],
 "metadata": {
  "kernelspec": {
   "display_name": "Python 3",
   "language": "python",
   "name": "python3"
  },
  "language_info": {
   "codemirror_mode": {
    "name": "ipython",
    "version": 3
   },
   "file_extension": ".py",
   "mimetype": "text/x-python",
   "name": "python",
   "nbconvert_exporter": "python",
   "pygments_lexer": "ipython3",
   "version": "3.12.4"
  }
 },
 "nbformat": 4,
 "nbformat_minor": 2
}
