{
 "cells": [
  {
   "cell_type": "code",
   "execution_count": 2,
   "metadata": {},
   "outputs": [],
   "source": [
    "#Send Command\n",
    "#vẽ đường tròn\n",
    "from pyautocad import Autocad, APoint\n",
    "a = Autocad()\n",
    "\n",
    "a.doc.SendCommand('c ' + '50,50 ' + '25 ')"
   ]
  },
  {
   "cell_type": "code",
   "execution_count": 1,
   "metadata": {},
   "outputs": [],
   "source": [
    "#VẼ ĐƯỜNG TRÒN\n",
    "from pyautocad import Autocad, APoint\n",
    "a = Autocad()\n",
    "radius = '100 '\n",
    "\n",
    "a.doc.SendCommand('c ' + '30,20 ' + radius)"
   ]
  },
  {
   "cell_type": "code",
   "execution_count": null,
   "metadata": {},
   "outputs": [],
   "source": [
    "\n",
    "from pyautocad import Autocad, APoint\n",
    "a = Autocad()\n",
    "a.doc.SendCommand('l ' + '0,0 ' + '5,0')"
   ]
  },
  {
   "cell_type": "code",
   "execution_count": null,
   "metadata": {},
   "outputs": [],
   "source": [
    "from pyautocad import Autocad, APoint\n",
    "a = Autocad()\n",
    "\n",
    "#Load linetype\n",
    "a.doc.SendCommand('filedia ' + '0 ')\n",
    "a.doc.SendCommand(\"-lt \"+ \"load \" + \"DOT2\\n\" + \"acadiso.lin\\n\\n\\u001b\\u001b\")\n",
    "a.doc.SendCommand('filedia ' + '1 ')"
   ]
  },
  {
   "cell_type": "code",
   "execution_count": null,
   "metadata": {},
   "outputs": [],
   "source": [
    "#CÁC BUTTON THƯỜNG DÙNG\n",
    "\\u00094 : tab\n",
    "\\u001b : esc\n",
    "\\n : enter\n",
    "    \n",
    "#CÁC BUTTON KHÁC\n",
    "https://codepoints.net/basic_latin"
   ]
  }
 ],
 "metadata": {
  "kernelspec": {
   "display_name": "Python 3",
   "language": "python",
   "name": "python3"
  },
  "language_info": {
   "codemirror_mode": {
    "name": "ipython",
    "version": 3
   },
   "file_extension": ".py",
   "mimetype": "text/x-python",
   "name": "python",
   "nbconvert_exporter": "python",
   "pygments_lexer": "ipython3",
   "version": "3.12.4"
  }
 },
 "nbformat": 4,
 "nbformat_minor": 2
}
