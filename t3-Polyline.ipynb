{
 "cells": [
  {
   "cell_type": "code",
   "execution_count": 5,
   "metadata": {},
   "outputs": [],
   "source": [
    "#Polyline\n",
    "from pyautocad  import Autocad, aDouble, APoint\n",
    "a = Autocad()\n",
    "p2 = APoint(1, 2)\n",
    "p1 = aDouble(1,2,0, 3,7,0, 5,8,0)\n",
    "a.model.AddPolyline(p1)\n",
    "a.model.AddCircle(p2, 3)\n",
    "\n",
    "\n",
    "a.app.ZoomExtents()"
   ]
  }
 ],
 "metadata": {
  "kernelspec": {
   "display_name": "Python 3",
   "language": "python",
   "name": "python3"
  },
  "language_info": {
   "codemirror_mode": {
    "name": "ipython",
    "version": 3
   },
   "file_extension": ".py",
   "mimetype": "text/x-python",
   "name": "python",
   "nbconvert_exporter": "python",
   "pygments_lexer": "ipython3",
   "version": "3.12.4"
  }
 },
 "nbformat": 4,
 "nbformat_minor": 2
}
