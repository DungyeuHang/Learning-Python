{
 "cells": [
  {
   "cell_type": "code",
   "execution_count": 4,
   "metadata": {},
   "outputs": [],
   "source": [
    "from pyautocad  import Autocad, APoint\n",
    "from math import pi\n",
    "a = Autocad()\n",
    "p1 = APoint(1, 2)\n",
    "a.model.AddArc(p1, 4, 30*pi/180, 60*pi/180)\n",
    "#a.model.AddArc(x1, x2, x3, x4)\n",
    "#x1: tâm cung tròn, \n",
    "#x2: bán kính cung tròn, \n",
    "#x3: góc ban đầu, \n",
    "#x4: góc cuối\n",
    "#đơn vị góc là radian\n",
    "\n",
    "a.app.ZoomExtents()"
   ]
  },
  {
   "cell_type": "code",
   "execution_count": null,
   "metadata": {},
   "outputs": [],
   "source": [
    "from pyautocad import Autocad, APoint\n",
    "a = Autocad()\n",
    "p1 = APoint(3, 3)\n",
    "p2 = APoint(3, 5)\n",
    "\n",
    "a.model.AddPoint(p1)\n",
    "a.model.AddPoint(p2)\n",
    "\n",
    "\n",
    "a.model.AddEllipse(p1, p2, 0.5)\n",
    "#a.model.AddEllipse(x1, x2, x3)\n",
    "#x1: tâm Ellipse\n",
    "#x2: Bán kính lớn nhất của Ellipse\n",
    "#x3: ratio - tỷ lệ giữa trục ngắn và trục dời của Elispe\n",
    "\n",
    "a.app.ZoomExtents()"
   ]
  }
 ],
 "metadata": {
  "kernelspec": {
   "display_name": "Python 3",
   "language": "python",
   "name": "python3"
  },
  "language_info": {
   "codemirror_mode": {
    "name": "ipython",
    "version": 3
   },
   "file_extension": ".py",
   "mimetype": "text/x-python",
   "name": "python",
   "nbconvert_exporter": "python",
   "pygments_lexer": "ipython3",
   "version": "3.12.4"
  }
 },
 "nbformat": 4,
 "nbformat_minor": 2
}
