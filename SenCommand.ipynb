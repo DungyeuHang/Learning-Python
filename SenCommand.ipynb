{
 "cells": [
  {
   "cell_type": "code",
   "execution_count": 33,
   "metadata": {},
   "outputs": [],
   "source": [
    "from pyautocad import Autocad, APoint\n",
    "a = Autocad()\n",
    "\n",
    "#Load linetype\n",
    "a.doc.SendCommand('filedia ' + '0 ')\n",
    "#a.doc.SendCommand(\"-lt \"+ \"load \" + \"DIVIDE\\n\" + \"C:/Users/DELL/AppData/Roaming/Autodesk/AutoCAD 2022/R24.1/enu/Support/acad.lin\\n\\n\")\n",
    "a.doc.SendCommand(\"-lt \"+ \"load \" + \"DOTX2\\n\" + r\"C:/Users/DELL/AppData/Roaming/Autodesk/AutoCAD 2022/R24.1/enu/Support/acad.lin\\n\\n\\u001b\\u001b\")\n",
    "a.doc.SendCommand('filedia ' + '1 ')"
   ]
  },
  {
   "cell_type": "code",
   "execution_count": 31,
   "metadata": {},
   "outputs": [],
   "source": [
    "#LOAD LINETYPE\n",
    "from pyautocad import Autocad, APoint\n",
    "a = Autocad()\n",
    "\n",
    "a.doc.SendCommand('filedia ' + '0 ')\n",
    "a.doc.SendCommand(\"-lt \"+ \"load \"+ \"DOTX2\\n\" + \"C:/Users/DELL/AppData/Roaming/Autodesk/AutoCAD 2022/R24.1/enu/Support/acad.lin\\n\\n\")\n",
    "a.doc.SendCommand('filedia ' + '1 ')"
   ]
  },
  {
   "cell_type": "code",
   "execution_count": null,
   "metadata": {},
   "outputs": [],
   "source": [
    "#CÁC BUTTON THƯỜNG DÙNG\n",
    "\\u00094 : tab\n",
    "\\u001b : esc\n",
    "\\n : enter\n",
    "    \n",
    "#CÁC BUTTON KHÁC\n",
    "https://codepoints.net/basic_latin"
   ]
  },
  {
   "cell_type": "code",
   "execution_count": 9,
   "metadata": {},
   "outputs": [],
   "source": [
    "from pyautocad import Autocad, APoint\n",
    "a = Autocad()\n",
    "# Load linetype\n",
    "a.doc.SendCommand('filedia ' + '0 ')\n",
    "command1 = '-lt load DIVIDE\\n'\n",
    "duong_dan1 = 'C:/Users/DELL/AppData/Roaming/Autodesk/AutoCAD 2022/R24.1/enu/Support/acad.lin\\n\\n'\n",
    "a.doc.SendCommand(command1 + duong_dan1)\n",
    "#command2 = '-lt \"load\" \"DOT2\" \"C:/Users/DELL/AppData/Roaming/Autodesk/AutoCAD 2022/R24.1/enu/Support/acad.lin\"\\n\\n'\n",
    "#a.doc.SendCommand(command2)\n",
    "a.doc.SendCommand('filedia ' + '1 ')"
   ]
  }
 ],
 "metadata": {
  "kernelspec": {
   "display_name": "Python 3",
   "language": "python",
   "name": "python3"
  },
  "language_info": {
   "codemirror_mode": {
    "name": "ipython",
    "version": 3
   },
   "file_extension": ".py",
   "mimetype": "text/x-python",
   "name": "python",
   "nbconvert_exporter": "python",
   "pygments_lexer": "ipython3",
   "version": "3.12.4"
  }
 },
 "nbformat": 4,
 "nbformat_minor": 2
}
