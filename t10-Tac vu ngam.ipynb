{
 "cells": [
  {
   "cell_type": "code",
   "execution_count": 2,
   "metadata": {},
   "outputs": [
    {
     "name": "stdout",
     "output_type": "stream",
     "text": [
      "Đã chạy xong code\n"
     ]
    }
   ],
   "source": [
    "from pyautocad import Autocad, APoint\n",
    "import os\n",
    "a = Autocad()\n",
    "\n",
    "#create_if_not_exists = True : tạo ra nếu autocad không mở\n",
    "#visible = False : không hiển thị/ nếu là True thì mở autocad\n",
    "\n",
    "a = Autocad(create_if_not_exists = True, visible = False)\n",
    "#a = Autocad(create_if_not_exists = True, visible = True)\n",
    "\n",
    "#vị trí folder place\n",
    "#r để vào để dấu \\ được thay bằng dấu / vì python không đọc dấu \\\n",
    "place = r'C:\\Users\\DELL\\Desktop\\New folder'\n",
    "\n",
    "p1 = APoint(0)\n",
    "p2 = APoint(1,2)\n",
    "c = a.model.Addline(p1,p2)\n",
    "for x in range(3):\n",
    "    c.color = x\n",
    "\n",
    "    #Câu lệnh lưu file (place vị trí + '/' + string tên file)\n",
    "    #=> C:\\Users\\DELL\\Desktop\\New folder\\1.dwg (mặc định dwg)\n",
    "    a.doc.saveas(place + '/' + str(x))\n",
    "\n",
    "#câu lệnh ngưng tác vụ chạy ngầm, mở file mới lên không được\n",
    "#os.system('TASKKILL /F /IM tên file')\n",
    "os.system('TASKKILL /F /IM acad.exe')\n",
    "\n",
    "\n",
    "print('Đã chạy xong code')"
   ]
  }
 ],
 "metadata": {
  "kernelspec": {
   "display_name": "Python 3",
   "language": "python",
   "name": "python3"
  },
  "language_info": {
   "codemirror_mode": {
    "name": "ipython",
    "version": 3
   },
   "file_extension": ".py",
   "mimetype": "text/x-python",
   "name": "python",
   "nbconvert_exporter": "python",
   "pygments_lexer": "ipython3",
   "version": "3.12.4"
  }
 },
 "nbformat": 4,
 "nbformat_minor": 2
}
