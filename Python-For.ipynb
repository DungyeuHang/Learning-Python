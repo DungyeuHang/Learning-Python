{
 "cells": [
  {
   "cell_type": "code",
   "execution_count": 1,
   "metadata": {},
   "outputs": [
    {
     "data": {
      "text/plain": [
       "[1, 2, 3, 4, 5, 6, 7, 8, 9]"
      ]
     },
     "execution_count": 1,
     "metadata": {},
     "output_type": "execute_result"
    }
   ],
   "source": [
    "a = [1,2,3,4,5,6,7,8,9]\n",
    "a"
   ]
  },
  {
   "cell_type": "code",
   "execution_count": 2,
   "metadata": {},
   "outputs": [
    {
     "name": "stdout",
     "output_type": "stream",
     "text": [
      "1\n",
      "2\n",
      "3\n",
      "4\n",
      "5\n",
      "6\n",
      "7\n",
      "8\n",
      "9\n"
     ]
    }
   ],
   "source": [
    "for n in a:\n",
    "    print(n)"
   ]
  },
  {
   "cell_type": "code",
   "execution_count": 3,
   "metadata": {},
   "outputs": [
    {
     "name": "stdout",
     "output_type": "stream",
     "text": [
      "0\n",
      "1\n",
      "2\n",
      "3\n",
      "4\n",
      "5\n",
      "6\n",
      "7\n",
      "8\n",
      "9\n"
     ]
    }
   ],
   "source": [
    "for i in range(10):\n",
    "    print(i)"
   ]
  },
  {
   "cell_type": "code",
   "execution_count": 5,
   "metadata": {},
   "outputs": [
    {
     "name": "stdout",
     "output_type": "stream",
     "text": [
      "D\n",
      "ũ\n",
      "n\n",
      "g\n",
      " \n",
      "y\n",
      "ê\n",
      "u\n",
      " \n",
      "H\n",
      "ằ\n",
      "n\n",
      "g\n"
     ]
    }
   ],
   "source": [
    "b = 'Dũng yêu Hằng'\n",
    "for x in b:\n",
    "    print(x)"
   ]
  },
  {
   "cell_type": "code",
   "execution_count": 12,
   "metadata": {},
   "outputs": [
    {
     "name": "stdout",
     "output_type": "stream",
     "text": [
      "số chia hết cho 2 là: 0\n"
     ]
    }
   ],
   "source": [
    "# ví dụ tìm số chia hết cho 2 trong dãy:\n",
    "for x in range (2):\n",
    "    so_du = x % 2\n",
    "    if so_du == 0:\n",
    "        print('số chia hết cho 2 là: ' + str(x))"
   ]
  },
  {
   "cell_type": "code",
   "execution_count": 14,
   "metadata": {},
   "outputs": [
    {
     "name": "stdout",
     "output_type": "stream",
     "text": [
      "Cam Quýt Táo "
     ]
    }
   ],
   "source": [
    "#Loop for dict\n",
    "x = { 'Cam' : 10,\n",
    "     'Quýt' : 20,\n",
    "     'Táo' : 25\n",
    "     }\n",
    "for i in x:\n",
    "    print(i, end=' ')"
   ]
  },
  {
   "cell_type": "code",
   "execution_count": 16,
   "metadata": {},
   "outputs": [
    {
     "name": "stdout",
     "output_type": "stream",
     "text": [
      "10 20 25 "
     ]
    }
   ],
   "source": [
    "#Loop for dict 2\n",
    "x = { 'Cam' : 10,\n",
    "     'Quýt' : 20,\n",
    "     'Táo' : 25\n",
    "     }\n",
    "for i in x.values():\n",
    "    print(i, end=' ')"
   ]
  },
  {
   "cell_type": "code",
   "execution_count": 17,
   "metadata": {},
   "outputs": [
    {
     "name": "stdout",
     "output_type": "stream",
     "text": [
      "('Cam', 10) ('Quýt', 20) ('Táo', 25) "
     ]
    }
   ],
   "source": [
    "#Loop for dict 3\n",
    "x = { 'Cam' : 10,\n",
    "     'Quýt' : 20,\n",
    "     'Táo' : 25\n",
    "     }\n",
    "for i in x.items():\n",
    "    print(i, end=' ')"
   ]
  },
  {
   "cell_type": "code",
   "execution_count": null,
   "metadata": {},
   "outputs": [],
   "source": [
    "#Enumerate\n",
    "#Hàm được sử dụng để liệt kê một danh sách bất kỳ (hoặc bất kỳ đối tượng có thể lặp lại nào khác) và trả về một đối tượng liệt kê, chứa các cặp (index, giá trị)"
   ]
  },
  {
   "cell_type": "code",
   "execution_count": 18,
   "metadata": {},
   "outputs": [
    {
     "data": {
      "text/plain": [
       "<enumerate at 0x1ba7ebe3ab0>"
      ]
     },
     "execution_count": 18,
     "metadata": {},
     "output_type": "execute_result"
    }
   ],
   "source": [
    "b = ['Dũng', 'Hằng', 'Hiếu']\n",
    "enumerate(b)"
   ]
  },
  {
   "cell_type": "code",
   "execution_count": 20,
   "metadata": {},
   "outputs": [
    {
     "data": {
      "text/plain": [
       "[(1, 'Dũng'), (2, 'Hằng'), (3, 'Hiếu')]"
      ]
     },
     "execution_count": 20,
     "metadata": {},
     "output_type": "execute_result"
    }
   ],
   "source": [
    "list(enumerate(b,1))"
   ]
  },
  {
   "cell_type": "code",
   "execution_count": 21,
   "metadata": {},
   "outputs": [
    {
     "name": "stdout",
     "output_type": "stream",
     "text": [
      "1 Dũng\n",
      "2 Hằng\n",
      "3 Hiếu\n"
     ]
    }
   ],
   "source": [
    "for x,y in enumerate (b,1):\n",
    "    print(x, y)"
   ]
  }
 ],
 "metadata": {
  "kernelspec": {
   "display_name": "Python 3",
   "language": "python",
   "name": "python3"
  },
  "language_info": {
   "codemirror_mode": {
    "name": "ipython",
    "version": 3
   },
   "file_extension": ".py",
   "mimetype": "text/x-python",
   "name": "python",
   "nbconvert_exporter": "python",
   "pygments_lexer": "ipython3",
   "version": "3.12.4"
  }
 },
 "nbformat": 4,
 "nbformat_minor": 2
}
