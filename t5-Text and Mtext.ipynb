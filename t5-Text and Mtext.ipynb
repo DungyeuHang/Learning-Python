{
 "cells": [
  {
   "cell_type": "code",
   "execution_count": 2,
   "metadata": {},
   "outputs": [],
   "source": [
    "from pyautocad import Autocad, APoint\n",
    "a = Autocad()\n",
    "p1 = APoint(3, 4)\n",
    "\n",
    "#tạo Text, nên đặt là biến cho dễ quản lý\n",
    "#text = a.model.AddText(x1, x2, x3)\n",
    "#x1 chuỗi ký tự, dạng string\n",
    "#x2: điểm đặt, vị trí đặt\n",
    "#x3: chiều cao chữ\n",
    "text = a.model.AddText('Nguyễn Dũng', p1, 5)\n",
    "\n",
    "a.app.ZoomExtents()"
   ]
  },
  {
   "cell_type": "code",
   "execution_count": 11,
   "metadata": {},
   "outputs": [],
   "source": [
    "from pyautocad import Autocad, APoint\n",
    "a = Autocad()\n",
    "p1 = APoint(3, 4)\n",
    "#c = 5+9\n",
    "\n",
    "text = a.model.AddText( ''' Tôi là 'Dũng\" ''' , p1, 5)\n",
    "\n",
    "a.app.ZoomExtents()"
   ]
  },
  {
   "cell_type": "code",
   "execution_count": 13,
   "metadata": {},
   "outputs": [],
   "source": [
    "from pyautocad import Autocad, APoint\n",
    "a = Autocad()\n",
    "p1 = APoint(3, 4)\n",
    "a.model.Addpoint(p1)\n",
    "\n",
    "#Tạo Mtext\n",
    "#mtext = a.model.AddMtext (x1, x2, x3)\n",
    "#x1: vị trí đặt\n",
    "#x2: chiều rộng Mtext - width\n",
    "#x3: chuỗi\n",
    "mtext = a.model.AddMtext (p1, 20, 'Dũng yêu Hằng')\n",
    "\n",
    "a.app.ZoomExtents()"
   ]
  }
 ],
 "metadata": {
  "kernelspec": {
   "display_name": "Python 3",
   "language": "python",
   "name": "python3"
  },
  "language_info": {
   "codemirror_mode": {
    "name": "ipython",
    "version": 3
   },
   "file_extension": ".py",
   "mimetype": "text/x-python",
   "name": "python",
   "nbconvert_exporter": "python",
   "pygments_lexer": "ipython3",
   "version": "3.12.4"
  }
 },
 "nbformat": 4,
 "nbformat_minor": 2
}
