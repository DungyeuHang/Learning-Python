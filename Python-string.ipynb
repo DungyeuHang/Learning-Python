{
 "cells": [
  {
   "cell_type": "code",
   "execution_count": null,
   "metadata": {},
   "outputs": [],
   "source": [
    "from pyautocad import Autocad, APoint\n",
    "a = Autocad()\n",
    "p1 = APoint(1)\n",
    "p2 = APoint(2, 2)\n",
    "l1 = a.model.Addline(p1, p2)\n",
    "#a.app.Copy(l1, p1, p2)\n",
    "a.app.ZoomExtents()\n"
   ]
  },
  {
   "cell_type": "code",
   "execution_count": 1,
   "metadata": {},
   "outputs": [],
   "source": [
    "from pyautocad import Autocad, APoint\n",
    "acad = Autocad()\n",
    "radius = '100 '\n",
    "\n",
    "acad.doc.SendCommand('c ' + '30,20 ' + radius)"
   ]
  },
  {
   "cell_type": "code",
   "execution_count": null,
   "metadata": {},
   "outputs": [],
   "source": [
    "x=10\n",
    "for i in range(8):\n",
    "    x-=1\n",
    "    soo = x-1\n",
    "    print(soo)"
   ]
  },
  {
   "cell_type": "code",
   "execution_count": 1,
   "metadata": {},
   "outputs": [
    {
     "name": "stdout",
     "output_type": "stream",
     "text": [
      "xin chào + Việt Nam\n"
     ]
    }
   ],
   "source": [
    "print('xin chào +', 'Việt Nam')"
   ]
  },
  {
   "cell_type": "code",
   "execution_count": 2,
   "metadata": {},
   "outputs": [
    {
     "name": "stdout",
     "output_type": "stream",
     "text": [
      "Xin chào \n",
      "Việt Nam\n"
     ]
    }
   ],
   "source": [
    "#Xuống dòng\n",
    "print('Xin chào \\nViệt Nam')"
   ]
  },
  {
   "cell_type": "code",
   "execution_count": 7,
   "metadata": {},
   "outputs": [
    {
     "name": "stdout",
     "output_type": "stream",
     "text": [
      "Xin chào+Việt Nam\n"
     ]
    }
   ],
   "source": [
    "print('Xin chào','Việt Nam',sep='+')"
   ]
  },
  {
   "cell_type": "code",
   "execution_count": 8,
   "metadata": {},
   "outputs": [
    {
     "data": {
      "text/plain": [
       "8"
      ]
     },
     "execution_count": 8,
     "metadata": {},
     "output_type": "execute_result"
    }
   ],
   "source": [
    "#Độ dài chuỗi\n",
    "len('Việt Nam')"
   ]
  },
  {
   "cell_type": "code",
   "execution_count": 10,
   "metadata": {},
   "outputs": [
    {
     "name": "stdout",
     "output_type": "stream",
     "text": [
      "Giá trị của a là: 10\n"
     ]
    }
   ],
   "source": [
    "#Chèn biến vào chuỗi\n",
    "a = 10\n",
    "print('Giá trị của a là: ' + str(a))"
   ]
  },
  {
   "cell_type": "code",
   "execution_count": 12,
   "metadata": {},
   "outputs": [
    {
     "name": "stdout",
     "output_type": "stream",
     "text": [
      "Giá trị của a là 10\n"
     ]
    }
   ],
   "source": [
    "#Chèn biến vào chuỗi kiểu 2\n",
    "a = 10\n",
    "print(f'Giá trị của a là {a}')"
   ]
  }
 ],
 "metadata": {
  "kernelspec": {
   "display_name": "Python 3",
   "language": "python",
   "name": "python3"
  },
  "language_info": {
   "codemirror_mode": {
    "name": "ipython",
    "version": 3
   },
   "file_extension": ".py",
   "mimetype": "text/x-python",
   "name": "python",
   "nbconvert_exporter": "python",
   "pygments_lexer": "ipython3",
   "version": "3.12.4"
  }
 },
 "nbformat": 4,
 "nbformat_minor": 2
}
