{
 "cells": [
  {
   "cell_type": "code",
   "execution_count": 6,
   "metadata": {},
   "outputs": [],
   "source": [
    "from tkinter import *\n",
    "from PIL import ImageTk, Image\n",
    "\n",
    "#Tạo tkinter\n",
    "\n",
    "giaodien = Tk()\n",
    "giaodien.title('Phần mềm vẽ T')\n",
    "giaodien.geometry('400x600')\n",
    "\n",
    "\n",
    "\n",
    "#import hình ảnh:\n",
    "\n",
    "ha_import = (Image.open(r'C:\\Users\\DELL\\Desktop\\Python CAD\\T.PNG'))\n",
    "ha_size = ha_import.resize((250,250), Image.LANCZOS)\n",
    "img = ImageTk.PhotoImage(ha_size)\n",
    "\n",
    "#Import hình ảnh vào button\n",
    "hinhanh = Button(giaodien, \n",
    "                 text ='', \n",
    "                 font=('times new roman', 13), \n",
    "                 image = img)\n",
    "hinhanh.place(x=80, y=80)\n",
    " \n",
    "\n",
    "mainloop()"
   ]
  },
  {
   "cell_type": "code",
   "execution_count": 8,
   "metadata": {},
   "outputs": [],
   "source": [
    "from tkinter import *\n",
    "from PIL import ImageTk, Image\n",
    "\n",
    "#Tạo tkinter\n",
    "\n",
    "giaodien = Tk()\n",
    "giaodien.title('Phần mềm vẽ T')\n",
    "giaodien.geometry('400x600')\n",
    "\n",
    "#tạo Entry nhập liệu có giá trị sẵn\n",
    "onhap1 = Entry(giaodien, width=15, font=('times new roman', 10))\n",
    "onhap1.insert(END, '2000')\n",
    "onhap1.place(x=150, y=30)\n",
    " \n",
    "\n",
    "mainloop()"
   ]
  },
  {
   "cell_type": "code",
   "execution_count": 22,
   "metadata": {},
   "outputs": [
    {
     "data": {
      "text/plain": [
       "40.0"
      ]
     },
     "execution_count": 22,
     "metadata": {},
     "output_type": "execute_result"
    }
   ],
   "source": [
    "from pyautocad  import Autocad, aDouble, APoint\n",
    "a = Autocad()\n",
    "p2 = APoint(0,0)\n",
    "p1 = aDouble(0,0,0, 5,0,0, 5,8,0, 0,8,0, 0,0,0)\n",
    "b = a.model.AddPolyline(p1)\n",
    "b.area\n",
    "#s = b.area\n",
    "#a.prompt(s)"
   ]
  },
  {
   "cell_type": "code",
   "execution_count": 19,
   "metadata": {},
   "outputs": [],
   "source": [
    "b.erase()"
   ]
  }
 ],
 "metadata": {
  "kernelspec": {
   "display_name": "Python 3",
   "language": "python",
   "name": "python3"
  },
  "language_info": {
   "codemirror_mode": {
    "name": "ipython",
    "version": 3
   },
   "file_extension": ".py",
   "mimetype": "text/x-python",
   "name": "python",
   "nbconvert_exporter": "python",
   "pygments_lexer": "ipython3",
   "version": "3.12.4"
  }
 },
 "nbformat": 4,
 "nbformat_minor": 2
}
