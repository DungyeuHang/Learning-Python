{
 "cells": [
  {
   "cell_type": "code",
   "execution_count": null,
   "metadata": {},
   "outputs": [],
   "source": [
    "# Phép cộng\n",
    "1+1\n",
    "2\n",
    "# Phép trừ\n",
    "2-1\n",
    "1\n",
    "# Phép nhân\n",
    "2*3\n",
    "6\n",
    "# Phép chia\n",
    "5/2\n",
    "2.5\n",
    "# Phép chia lấy phần nguyên\n",
    "5//2\n",
    "2\n",
    "# Phép chia lấy phần dư\n",
    "5%2\n",
    "1\n",
    "# Luỹ thừa\n",
    "2**3\n",
    "8\n",
    "# Căn bậc 2\n",
    "25**0.5\n",
    "5.0\n",
    "# Thứ tự tính toán không có dấu ()\n",
    "1 + 10 * 10 - 26\n",
    "75\n",
    "# Thứ tự tính toán dấu ()\n",
    "(1 + 10) * (10 - 26)"
   ]
  },
  {
   "cell_type": "code",
   "execution_count": 1,
   "metadata": {},
   "outputs": [
    {
     "data": {
      "text/plain": [
       "-176"
      ]
     },
     "execution_count": 1,
     "metadata": {},
     "output_type": "execute_result"
    }
   ],
   "source": [
    "(1 + 10) * (10 - 26)"
   ]
  }
 ],
 "metadata": {
  "kernelspec": {
   "display_name": "Python 3",
   "language": "python",
   "name": "python3"
  },
  "language_info": {
   "codemirror_mode": {
    "name": "ipython",
    "version": 3
   },
   "file_extension": ".py",
   "mimetype": "text/x-python",
   "name": "python",
   "nbconvert_exporter": "python",
   "pygments_lexer": "ipython3",
   "version": "3.12.4"
  }
 },
 "nbformat": 4,
 "nbformat_minor": 2
}
