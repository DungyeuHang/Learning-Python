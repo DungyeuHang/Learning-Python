{
 "cells": [
  {
   "cell_type": "code",
   "execution_count": null,
   "metadata": {},
   "outputs": [],
   "source": [
    "for .... in ....:\n",
    "....."
   ]
  },
  {
   "cell_type": "code",
   "execution_count": null,
   "metadata": {},
   "outputs": [],
   "source": [
    "a = 'Dũng yêu Hằng'\n",
    "for x in a:\n",
    "    print(x)"
   ]
  },
  {
   "cell_type": "code",
   "execution_count": null,
   "metadata": {},
   "outputs": [],
   "source": [
    "a = (1, 2, 3, 4, 5)\n",
    "for x in a:\n",
    "    print(x+1)"
   ]
  },
  {
   "cell_type": "code",
   "execution_count": null,
   "metadata": {},
   "outputs": [],
   "source": [
    "a = ('Dũng', 'yêu', 'Hằng', ''' for'e\"ver' ''')\n",
    "for x in a:\n",
    "    print(x)"
   ]
  },
  {
   "cell_type": "code",
   "execution_count": null,
   "metadata": {},
   "outputs": [],
   "source": [
    "for x in range(12):\n",
    "    print(x)\n",
    "    #in số từ 0=>11 (12 lần)"
   ]
  },
  {
   "cell_type": "code",
   "execution_count": null,
   "metadata": {},
   "outputs": [],
   "source": [
    "for x in range(10,20):\n",
    "    print(x)\n",
    "    #in số từ 10 => 19"
   ]
  },
  {
   "cell_type": "code",
   "execution_count": null,
   "metadata": {},
   "outputs": [],
   "source": [
    "a = 1\n",
    "for x in range(10):\n",
    "    a += 1\n",
    "    print(a)\n"
   ]
  },
  {
   "cell_type": "code",
   "execution_count": 26,
   "metadata": {},
   "outputs": [],
   "source": [
    "from pyautocad import Autocad, APoint\n",
    "a = Autocad()\n",
    "\n",
    "p1 = APoint(0, 1)\n",
    "p2 = APoint(1, 3)\n",
    "\n",
    "a.model.AddPoint(p1)\n",
    "a.model.AddPoint(p2)\n",
    "\n",
    "ra = 0 #nhớ phải định nghĩa ra trước\n",
    "for x in range(10):\n",
    "    ra += 0.1\n",
    "    a.model.AddEllipse(p1, p2, ra)\n",
    "\n",
    "\n",
    "a.app.ZoomExtents()"
   ]
  },
  {
   "cell_type": "code",
   "execution_count": 29,
   "metadata": {},
   "outputs": [],
   "source": [
    "from pyautocad import Autocad, APoint\n",
    "a = Autocad()\n",
    "\n",
    "p1 = APoint(0, 1)\n",
    "p2 = APoint(1, 3)\n",
    "\n",
    "a.model.AddPoint(p1)\n",
    "a.model.AddPoint(p2)\n",
    "\n",
    "ra = 0 #nhớ phải định nghĩa ra trước\n",
    "for x in range(100):\n",
    "    ra += 0.01\n",
    "    a.model.AddEllipse(p1, p2, ra)\n",
    "\n",
    "\n",
    "a.app.ZoomExtents()"
   ]
  }
 ],
 "metadata": {
  "kernelspec": {
   "display_name": "Python 3",
   "language": "python",
   "name": "python3"
  },
  "language_info": {
   "codemirror_mode": {
    "name": "ipython",
    "version": 3
   },
   "file_extension": ".py",
   "mimetype": "text/x-python",
   "name": "python",
   "nbconvert_exporter": "python",
   "pygments_lexer": "ipython3",
   "version": "3.12.4"
  }
 },
 "nbformat": 4,
 "nbformat_minor": 2
}
