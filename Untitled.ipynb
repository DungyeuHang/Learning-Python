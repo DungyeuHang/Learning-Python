{
 "cells": [
  {
   "cell_type": "code",
   "execution_count": 3,
   "id": "9585c85f-e85f-4073-96a2-a8f0e788f929",
   "metadata": {},
   "outputs": [],
   "source": [
    "from pyautocad import APoint, Autocad\n",
    "a = Autocad()\n",
    "p1 = APoint (8,10)\n",
    "p2 = APoint (9,4)\n",
    "line1 = a.model.AddLine(p1,p2)"
   ]
  },
  {
   "cell_type": "code",
   "execution_count": 2,
   "id": "485c1c9b-6e68-4ce0-bc69-3275ed241b5e",
   "metadata": {},
   "outputs": [],
   "source": [
    "p3 = APoint (12,4)\n",
    "line1 = a.model.AddLine(p2,p3)"
   ]
  }
 ],
 "metadata": {
  "kernelspec": {
   "display_name": "Python 3 (ipykernel)",
   "language": "python",
   "name": "python3"
  },
  "language_info": {
   "codemirror_mode": {
    "name": "ipython",
    "version": 3
   },
   "file_extension": ".py",
   "mimetype": "text/x-python",
   "name": "python",
   "nbconvert_exporter": "python",
   "pygments_lexer": "ipython3",
   "version": "3.12.4"
  }
 },
 "nbformat": 4,
 "nbformat_minor": 5
}
