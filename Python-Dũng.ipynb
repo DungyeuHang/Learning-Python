{
 "cells": [
  {
   "cell_type": "code",
   "execution_count": 11,
   "metadata": {},
   "outputs": [
    {
     "name": "stdout",
     "output_type": "stream",
     "text": [
      "2\n"
     ]
    }
   ],
   "source": [
    "#Test global a\n",
    "a = 1\n",
    "\n",
    "def cong1():\n",
    "    global a\n",
    "    a = a+1\n",
    "    print (a)\n",
    "cong1()\n"
   ]
  },
  {
   "cell_type": "code",
   "execution_count": null,
   "metadata": {},
   "outputs": [],
   "source": [
    "#Cú pháp print\n",
    "#print(objects(s), sep=separator, end = end, file=file, flush = flush)\n",
    "# objects: đối tượng, dữ liệu xuất, nhiều dữ liệu cách nhau bằng dấu phẩy (,)\n",
    "# sep: ngăn cách bằng\n",
    "# file: tên tập tin\n",
    "# flush: đẩy dữ liệu"
   ]
  }
 ],
 "metadata": {
  "kernelspec": {
   "display_name": "Python 3",
   "language": "python",
   "name": "python3"
  },
  "language_info": {
   "codemirror_mode": {
    "name": "ipython",
    "version": 3
   },
   "file_extension": ".py",
   "mimetype": "text/x-python",
   "name": "python",
   "nbconvert_exporter": "python",
   "pygments_lexer": "ipython3",
   "version": "3.12.4"
  }
 },
 "nbformat": 4,
 "nbformat_minor": 2
}
