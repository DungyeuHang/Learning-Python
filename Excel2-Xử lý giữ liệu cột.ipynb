{
 "cells": [
  {
   "cell_type": "code",
   "execution_count": 20,
   "metadata": {},
   "outputs": [
    {
     "name": "stdout",
     "output_type": "stream",
     "text": [
      "giá trị cột tổng là: \n",
      "0    300000\n",
      "1     25000\n",
      "2    300000\n",
      "3    300000\n",
      "4     50000\n",
      "Name: tổng, dtype: int64\n",
      "giá trị cột tên sản phẩm là: \n",
      "0    bột giặt\n",
      "1      gia vị\n",
      "2        thịt\n",
      "3          cá\n",
      "4     bim bim\n",
      "Name: tên sản phẩm, dtype: object\n",
      "tổng tiền phải trả là: 975000\n",
      "trung bình giá mỗi sản phẩm là: 82000.0\n",
      "số lượng sản phẩm là: \n",
      "5\n",
      "số lượng sản phẩm trong bảng là:\n",
      "tên sản phẩm\n",
      "bột giặt    1\n",
      "gia vị      1\n",
      "thịt        1\n",
      "cá          1\n",
      "bim bim     1\n",
      "Name: count, dtype: int64\n"
     ]
    }
   ],
   "source": [
    "import pandas as pd\n",
    "file = pd.read_excel(r'C:\\Users\\DELL\\Desktop\\Python CAD\\excel1.xlsx') \n",
    "\n",
    "tong = file.tổng\n",
    "#file.x1 \n",
    "#Lấy giá trị của cột x1 không có khoảng cách\n",
    "print('giá trị cột tổng là: ')\n",
    "print(tong)\n",
    "\n",
    "\n",
    "tensanpham = file['tên sản phẩm']\n",
    "print('giá trị cột tên sản phẩm là: ')\n",
    "print(tensanpham)\n",
    "#file['x2']\n",
    "#Lấy giá trị cột x2 có khoảng cách\n",
    "\n",
    "tongtien = file['tổng'].sum()\n",
    "print('tổng tiền phải trả là: ' + str(tongtien))\n",
    "#file['số lượng'].sum()\n",
    "#file.STT.sum()\n",
    "#file.x1.sum()\n",
    "#tính tổng cột\n",
    "\n",
    "\n",
    "#file.x1.mean()\n",
    "#trung bình cộng cột x1\n",
    "tbgia = file.giá.mean()\n",
    "print('trung bình giá mỗi sản phẩm là: ' + str(tbgia))\n",
    "\n",
    "\n",
    "#file.x1.nunique()\n",
    "#lấy số lượng của cột x1\n",
    "slcot = file['tên sản phẩm'].nunique()\n",
    "print('số lượng sản phẩm là: ')\n",
    "print(slcot)\n",
    "\n",
    "#file['x1'].value_counts()\n",
    "#đếm số lượng các thành phần có trong cột x1\n",
    "tensanpham_sl = file['tên sản phẩm'].value_counts()\n",
    "print('số lượng sản phẩm trong bảng là:')\n",
    "print(tensanpham_sl)\n"
   ]
  }
 ],
 "metadata": {
  "kernelspec": {
   "display_name": "Python 3",
   "language": "python",
   "name": "python3"
  },
  "language_info": {
   "codemirror_mode": {
    "name": "ipython",
    "version": 3
   },
   "file_extension": ".py",
   "mimetype": "text/x-python",
   "name": "python",
   "nbconvert_exporter": "python",
   "pygments_lexer": "ipython3",
   "version": "3.12.4"
  }
 },
 "nbformat": 4,
 "nbformat_minor": 2
}
