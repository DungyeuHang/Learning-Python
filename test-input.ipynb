{
 "cells": [
  {
   "cell_type": "code",
   "execution_count": null,
   "metadata": {},
   "outputs": [],
   "source": [
    "from pyautocad import Autocad, APoint\n",
    "acad = Autocad()\n",
    "doc = acad.ActiveDocument\n",
    "import sys\n",
    "doc.input('Dung yeu Hang')\n",
    "#key_word = str(input('Dũng yêu Hằng'))"
   ]
  },
  {
   "cell_type": "code",
   "execution_count": null,
   "metadata": {},
   "outputs": [],
   "source": [
    "from pyautocad import Autocad, APoint\n",
    "acad = Autocad()\n",
    "doc = acad.ActiveDocument\n",
    "import sys\n",
    "\n",
    "key_word = str(input('Ban muon ve song tron <tr>, thoi <th> hay song vuong <v>'))"
   ]
  }
 ],
 "metadata": {
  "kernelspec": {
   "display_name": "Python 3",
   "language": "python",
   "name": "python3"
  },
  "language_info": {
   "codemirror_mode": {
    "name": "ipython",
    "version": 3
   },
   "file_extension": ".py",
   "mimetype": "text/x-python",
   "name": "python",
   "nbconvert_exporter": "python",
   "pygments_lexer": "ipython3",
   "version": "3.12.4"
  }
 },
 "nbformat": 4,
 "nbformat_minor": 2
}
