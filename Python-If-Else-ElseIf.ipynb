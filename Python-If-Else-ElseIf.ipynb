{
 "cells": [
  {
   "cell_type": "code",
   "execution_count": 4,
   "metadata": {},
   "outputs": [
    {
     "name": "stdout",
     "output_type": "stream",
     "text": [
      "a bằng b\n"
     ]
    }
   ],
   "source": [
    "\n",
    "a = int(input('Nhập số a'))\n",
    "b = int(input('Nhập số b'))\n",
    "\n",
    "if a>b:\n",
    "    print(\"a lớn hơn b\")\n",
    "elif a<b:\n",
    "    print(\"a nhỏ hơn b\")\n",
    "else:\n",
    "    print(\"a bằng b\")\n"
   ]
  },
  {
   "cell_type": "code",
   "execution_count": null,
   "metadata": {},
   "outputs": [],
   "source": [
    "x = float(input('hãy nhập vào điểm'))\n",
    "if x>10 or x<0:\n",
    "    print('bạn nhập sai')\n",
    "else:\n",
    "    print('Bạn nhập đúng')"
   ]
  }
 ],
 "metadata": {
  "kernelspec": {
   "display_name": "Python 3",
   "language": "python",
   "name": "python3"
  },
  "language_info": {
   "codemirror_mode": {
    "name": "ipython",
    "version": 3
   },
   "file_extension": ".py",
   "mimetype": "text/x-python",
   "name": "python",
   "nbconvert_exporter": "python",
   "pygments_lexer": "ipython3",
   "version": "3.12.4"
  }
 },
 "nbformat": 4,
 "nbformat_minor": 2
}
